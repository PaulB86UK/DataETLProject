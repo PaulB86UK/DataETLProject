{
 "cells": [
  {
   "cell_type": "code",
   "execution_count": 1,
   "metadata": {},
   "outputs": [
    {
     "name": "stdout",
     "output_type": "stream",
     "text": [
      "Currently Processing epl_data_1617.csv\n",
      "Currently Processing epl_data_1718.csv\n",
      "Currently Processing epl_data_1819.csv\n",
      "Currently Processing epl_data_1920.csv\n",
      "Currently Processing epl_data_2021.csv\n"
     ]
    }
   ],
   "source": [
    "import pandas as pd\n",
    "import sys\n",
    "from datetime import datetime\n",
    "from pandasql import sqldf\n",
    "\n",
    "sys.path.append(r\"src\\scripts\")\n",
    "import data_extraction, data_transformation\n",
    "\n",
    "pysqldf = lambda q: sqldf(q, globals())\n",
    "\n",
    "PATH = r\"C:\\DataETLProject\\src\\source_files\"  # choose a path\n",
    "# data_extraction.extract_from_source(PATH)\n",
    "epl_data = data_transformation.create_main_file(PATH)\n",
    "epl_data_renamed = data_transformation.rename(epl_data)\n",
    "epl_sql = pysqldf(data_transformation.query())\n",
    "epl_sql.to_csv(r\"C:\\DataETLProject\\output\\epl_data.csv\", index=False)"
   ]
  }
 ],
 "metadata": {
  "interpreter": {
   "hash": "d85761a106fb530e37d235b347cb4d34aa8f6ba2f1100c2f3163684c416217ca"
  },
  "kernelspec": {
   "display_name": "Python 3.10.2 64-bit",
   "language": "python",
   "name": "python3"
  },
  "language_info": {
   "codemirror_mode": {
    "name": "ipython",
    "version": 3
   },
   "file_extension": ".py",
   "mimetype": "text/x-python",
   "name": "python",
   "nbconvert_exporter": "python",
   "pygments_lexer": "ipython3",
   "version": "3.10.2"
  },
  "orig_nbformat": 4
 },
 "nbformat": 4,
 "nbformat_minor": 2
}
